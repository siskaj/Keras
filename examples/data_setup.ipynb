{
 "cells": [
  {
   "cell_type": "code",
   "execution_count": 63,
   "metadata": {
    "collapsed": false
   },
   "outputs": [
    {
     "data": {
      "text/plain": [
       "'/Users/jsiska3/Documents/Uceni/Deep_Learning/Keras/examples/data'"
      ]
     },
     "execution_count": 63,
     "metadata": {},
     "output_type": "execute_result"
    }
   ],
   "source": [
    "%pwd"
   ]
  },
  {
   "cell_type": "code",
   "execution_count": 64,
   "metadata": {
    "collapsed": false
   },
   "outputs": [
    {
     "name": "stdout",
     "output_type": "stream",
     "text": [
      "/Users/jsiska3/Documents/Uceni/Deep_Learning/Keras/examples\n"
     ]
    }
   ],
   "source": [
    "%cd '/Users/jsiska3/Documents/Uceni/Deep_Learning/Keras/examples/'"
   ]
  },
  {
   "cell_type": "code",
   "execution_count": 65,
   "metadata": {
    "collapsed": false
   },
   "outputs": [
    {
     "name": "stdout",
     "output_type": "stream",
     "text": [
      "/Users/jsiska3/Documents/Uceni/Deep_Learning/Keras/examples\n"
     ]
    }
   ],
   "source": [
    "import os, sys, shutil\n",
    "from glob import glob\n",
    "import numpy as np\n",
    "%cd '/Users/jsiska3/Documents/Uceni/Deep_Learning/Keras/examples/'\n",
    "current_dir = os.getcwd()\n",
    "EXAMPLE_HOME_DIR = current_dir\n",
    "DATA_HOME_DIR = current_dir + '/data'\n",
    "SOURCE_DIR = current_dir + '/data/sources'"
   ]
  },
  {
   "cell_type": "code",
   "execution_count": 66,
   "metadata": {
    "collapsed": true
   },
   "outputs": [],
   "source": [
    "#Allow relative imports to directories above lesson1/\n",
    "sys.path.insert(1, os.path.join(sys.path[0], '..'))"
   ]
  },
  {
   "cell_type": "code",
   "execution_count": 67,
   "metadata": {
    "collapsed": false
   },
   "outputs": [
    {
     "name": "stdout",
     "output_type": "stream",
     "text": [
      "/Users/jsiska3/Documents/Uceni/Deep_Learning/Keras/examples/data/sources/train\n"
     ]
    }
   ],
   "source": [
    "%cd $DATA_HOME_DIR/sources/train"
   ]
  },
  {
   "cell_type": "code",
   "execution_count": 68,
   "metadata": {
    "collapsed": true
   },
   "outputs": [],
   "source": [
    "from shutil import copyfile"
   ]
  },
  {
   "cell_type": "code",
   "execution_count": 70,
   "metadata": {
    "collapsed": true
   },
   "outputs": [],
   "source": [
    "path = os.getcwd()\n",
    "for i in range(0,999) : \n",
    "    name = \"cat.\"+str(i)+\".jpg\"\n",
    "    dst = os.path.join(DATA_HOME_DIR+\"/train/cats\", name)\n",
    "    copyfile(name,dst)"
   ]
  },
  {
   "cell_type": "code",
   "execution_count": 71,
   "metadata": {
    "collapsed": true
   },
   "outputs": [],
   "source": [
    "for i in range(1000,1400) : \n",
    "    name = \"cat.\"+str(i)+\".jpg\"\n",
    "    dst = os.path.join(DATA_HOME_DIR+\"/validation/cats\", name)\n",
    "    copyfile(name,dst)"
   ]
  },
  {
   "cell_type": "code",
   "execution_count": 73,
   "metadata": {
    "collapsed": false
   },
   "outputs": [],
   "source": [
    "for i in range(0, 999) : \n",
    "    name = \"dog.\"+str(i)+\".jpg\"\n",
    "    dst = os.path.join(DATA_HOME_DIR+\"/train/dogs\", name)\n",
    "    copyfile(name,dst)"
   ]
  },
  {
   "cell_type": "code",
   "execution_count": 76,
   "metadata": {
    "collapsed": false
   },
   "outputs": [],
   "source": [
    "for i in range(1000,1400) : \n",
    "    name = \"dog.\"+str(i)+\".jpg\"\n",
    "    dst = os.path.join(DATA_HOME_DIR+\"/validation/dogs\", name)\n",
    "    copyfile(name,dst)"
   ]
  }
 ],
 "metadata": {
  "kernelspec": {
   "display_name": "Python 3",
   "language": "python",
   "name": "python3"
  },
  "language_info": {
   "codemirror_mode": {
    "name": "ipython",
    "version": 3
   },
   "file_extension": ".py",
   "mimetype": "text/x-python",
   "name": "python",
   "nbconvert_exporter": "python",
   "pygments_lexer": "ipython3",
   "version": "3.6.0"
  }
 },
 "nbformat": 4,
 "nbformat_minor": 2
}
